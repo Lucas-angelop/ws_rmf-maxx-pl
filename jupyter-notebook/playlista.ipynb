{
 "cells": [
  {
   "cell_type": "markdown",
   "metadata": {},
   "source": [
    "<center>\n",
    "<img src="https://github.com/Lucas-angelop/ws_rmf-maxx-pl/blob/master/img/nowe-logo-rmf-maxx.png" alt="RMFMAXX-PL" width="350" height="200"></center> "
   ]
  },
  {
   "cell_type": "code",
   "execution_count": 1,
   "metadata": {},
   "outputs": [],
   "source": [
    "# Libs \n",
    "import pandas   as pd\n",
    "import requests as rq\n",
    "from bs4 import BeautifulSoup\n",
    "\n",
    "import os\n",
    "from dotenv import load_dotenv"
   ]
  },
  {
   "cell_type": "code",
   "execution_count": 2,
   "metadata": {},
   "outputs": [],
   "source": [
    "# Variables\n",
    "url = \"https://www.rmfmaxx.pl/muzyka/playlista\"\n",
    "user_agent = os.getenv('USER_AGENT')\n",
    "header = {'User-Agent' : f'{user_agent}'}"
   ]
  },
  {
   "cell_type": "code",
   "execution_count": null,
   "metadata": {},
   "outputs": [],
   "source": [
    "# Last 24h \n",
    "for h in range(0,24):\n",
    "    # Get Page\n",
    "    relative_url = url + f\"/{h}#p\"\n",
    "    rmf_playlista = rq.get(relative_url, headers=header)\n",
    "    soup = BeautifulSoup(rmf_playlista.content, 'html.parser')\n",
    "    \n",
    "    # Find music playlist\n",
    "      # Select 'list-songs' first 'cause sidebar HopBec have the same div class 'row my-4 song-row'\n",
    "    playlist = soup.find('div', class_ = 'list-songs')      \n",
    "    playlist = playlist.find_all('div', class_ = 'row my-4 song-row')\n",
    "\n",
    "    # Find all music played\n",
    "    for music in playlist:\n",
    "        # Artist\n",
    "        music_artist = music.find('div', class_ = 'song-artists').get_text()\n",
    "        # Title\n",
    "        music_title = music.find('a', class_ = 'song-title text-muted').get_text()\n",
    "        # Time [CET UTC+01:00 or CEST UTC+02:00]\n",
    "        play_time = music.find('div', class_ = 'song-options small text-muted').get_text().strip()\n",
    "\n",
    "        print(f'{play_time} : {music_title} | {music_artist}')      "
   ]
  }
 ],
 "metadata": {
  "kernelspec": {
   "display_name": "Python 3",
   "language": "python",
   "name": "python3"
  },
  "language_info": {
   "codemirror_mode": {
    "name": "ipython",
    "version": 3
   },
   "file_extension": ".py",
   "mimetype": "text/x-python",
   "name": "python",
   "nbconvert_exporter": "python",
   "pygments_lexer": "ipython3",
   "version": "3.11.5"
  },
  "orig_nbformat": 4
 },
 "nbformat": 4,
 "nbformat_minor": 2
}
