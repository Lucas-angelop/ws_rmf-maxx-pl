{
 "cells": [
  {
   "cell_type": "code",
   "execution_count": 1,
   "metadata": {},
   "outputs": [],
   "source": [
    "# Libs \n",
    "import pandas   as pd\n",
    "import requests as rq\n",
    "from bs4 import BeautifulSoup\n",
    "\n",
    "import os\n",
    "from dotenv import load_dotenv"
   ]
  },
  {
   "cell_type": "code",
   "execution_count": 2,
   "metadata": {},
   "outputs": [],
   "source": [
    "# Variables\n",
    "url = \"https://www.rmfmaxx.pl/muzyka/playlista\"\n",
    "header = {'User-Agent' : os.getenv('USER_AGENT')}"
   ]
  },
  {
   "cell_type": "code",
   "execution_count": 3,
   "metadata": {},
   "outputs": [],
   "source": [
    "# Last 24h\n",
    "extract = []\n",
    "for hour in range(0,24):\n",
    "    # Get Page\n",
    "    relative_url = url + f\"/{hour}#p\"\n",
    "    rmf_playlista = rq.get(relative_url, headers=header)\n",
    "    soup = BeautifulSoup(rmf_playlista.content, 'html.parser')\n",
    "    \n",
    "    # Find music playlist\n",
    "      # Select 'list-songs' first 'cause sidebar HopBec have the same div class 'row my-4 song-row'\n",
    "    playlist = soup.find('div', class_ = 'list-songs')      \n",
    "    playlist = playlist.find_all('div', class_ = 'row my-4 song-row')\n",
    "\n",
    "    # Find all music played\n",
    "    for music in playlist:\n",
    "        # Artist\n",
    "        music_artist = music.find('div', class_ = 'song-artists').get_text()\n",
    "        # Title\n",
    "        music_title = music.find('a', class_ = 'song-title text-muted').get_text()\n",
    "        # Time [CET UTC+01:00 or CEST UTC+02:00]\n",
    "        time_played = music.find('div', class_ = 'song-options small text-muted').get_text().strip()\n",
    "        # Day \n",
    "        current_day = soup.find('b', class_='fw-500').get_text()\n",
    "        \n",
    "        extract.append({\n",
    "            'Date Played': current_day,\n",
    "            'Time Played': time_played,\n",
    "            'Music Title': music_title,\n",
    "            'Artist':  music_artist\n",
    "        })"
   ]
  },
  {
   "cell_type": "code",
   "execution_count": 4,
   "metadata": {},
   "outputs": [],
   "source": [
    "# Create Pandas Dataframe\n",
    "playlista = pd.DataFrame(data=extract)"
   ]
  },
  {
   "cell_type": "code",
   "execution_count": 5,
   "metadata": {},
   "outputs": [],
   "source": [
    "# Split for get Current Date and Artist Fuction\n",
    "playlista['Date Played']  = playlista[\"Date Played\"].str.split(',', n=2, expand=True)[1].str.split('(', n=2, expand=True)[0]\n",
    "playlista[['Artist', 'Feat', 'Others_Artists']] = playlista[\"Artist\"].str.split('/', n=2, expand=True).fillna('')"
   ]
  },
  {
   "cell_type": "code",
   "execution_count": 6,
   "metadata": {},
   "outputs": [],
   "source": [
    "# Next commit add database\n",
    "playlista.to_csv(path_or_buf='playlista.csv',index=False)"
   ]
  }
 ],
 "metadata": {
  "kernelspec": {
   "display_name": "Python 3",
   "language": "python",
   "name": "python3"
  },
  "language_info": {
   "codemirror_mode": {
    "name": "ipython",
    "version": 3
   },
   "file_extension": ".py",
   "mimetype": "text/x-python",
   "name": "python",
   "nbconvert_exporter": "python",
   "pygments_lexer": "ipython3",
   "version": "3.11.5"
  },
  "orig_nbformat": 4
 },
 "nbformat": 4,
 "nbformat_minor": 2
}
