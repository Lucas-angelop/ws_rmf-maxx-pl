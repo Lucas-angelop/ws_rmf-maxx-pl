{
 "cells": [
  {
   "cell_type": "markdown",
   "metadata": {},
   "source": [
    "<center>\n",
    "<img src=\"https://github.com/Lucas-angelop/ws_rmf-maxx-pl/blob/master/img/nowe-logo-rmf-maxx.png\" alt=\"RMFMAXX-PL\" width=\"350\" height=\"200\"></center> "
   ]
  },
  {
   "cell_type": "code",
   "execution_count": 9,
   "metadata": {},
   "outputs": [],
   "source": [
    "# Bibliotecas \n",
    "import pandas   as pd\n",
    "import requests as rq\n",
    "from bs4 import BeautifulSoup\n",
    "\n",
    "import os\n",
    "from dotenv import load_dotenv"
   ]
  },
  {
   "cell_type": "markdown",
   "metadata": {},
   "source": [
    "Projeto"
   ]
  },
  {
   "cell_type": "code",
   "execution_count": 10,
   "metadata": {},
   "outputs": [],
   "source": [
    "# Variaveis\n",
    "url = \"https://www.rmfmaxx.pl/muzyka/playlista\"\n",
    "user_agent = os.getenv('USER_AGENT')\n",
    "header = {'User-Agent' : f'{user_agent}'}"
   ]
  },
  {
   "cell_type": "code",
   "execution_count": 11,
   "metadata": {},
   "outputs": [],
   "source": [
    "# Get Page\n",
    "rmf_playlista = rq.get(url, headers=header)\n",
    "soup = BeautifulSoup(rmf_playlista.content, 'html.parser')"
   ]
  },
  {
   "cell_type": "code",
   "execution_count": 12,
   "metadata": {},
   "outputs": [],
   "source": [
    "# Preview\n",
    "# print(soup.prettify())"
   ]
  },
  {
   "cell_type": "code",
   "execution_count": 13,
   "metadata": {},
   "outputs": [],
   "source": [
    "# Obtendo a Playlist de Musicas\n",
    "playlist = soup.find('div', class_ = 'list-songs')          \n",
    "  # SELECT 'list-songs' FIRST 'CAUSE SIDEBAR HOPBEC HAVE THE SAME DIV CLASS\n",
    "playlist = playlist.find_all('div', class_ = 'row my-4 song-row')"
   ]
  },
  {
   "cell_type": "code",
   "execution_count": 14,
   "metadata": {},
   "outputs": [
    {
     "name": "stdout",
     "output_type": "stream",
     "text": [
      "Imagine Dragons\n",
      "On Top of the World\n",
      "01:48\n"
     ]
    }
   ],
   "source": [
    "#> Encontrando Atributos\n",
    "\n",
    "# Autor da Musica\n",
    "music_artist = playlist[0].find('div', class_ = 'song-artists').get_text()\n",
    "print(music_artist)\n",
    "\n",
    "# Titulo da Musica\n",
    "music_title = playlist[0].find('a', class_ = 'song-title text-muted').get_text()\n",
    "print(music_title)\n",
    "\n",
    "# Horario em que a Musica Tocou \n",
    "    # [Central European Time (CET) UTC+01:00 | Central European Summer Time UTC+02:00]\n",
    "play_time = playlist[0].find('div', class_ = 'song-options small text-muted').get_text().strip()\n",
    "print(play_time)"
   ]
  },
  {
   "cell_type": "code",
   "execution_count": 15,
   "metadata": {},
   "outputs": [
    {
     "name": "stdout",
     "output_type": "stream",
     "text": [
      "01:48 : On Top of the World | Imagine Dragons\n",
      "01:44 : Bo tutaj jest jak jest | Borysewicz & Kukiz\n",
      "01:41 : Desire | Calvin Harris / Sam Smith\n",
      "01:38 : Wszystkiego Na Raz | Liber / Natalia Szroeder\n",
      "01:34 : Gdy umiera dzień | Maciej Silski\n",
      "01:31 : Dance The Night | Dua Lipa\n",
      "01:28 : Za późno | Kayah\n",
      "01:26 : Jak słońce | Azzja\n",
      "01:23 : When Love Sucks | Jason Derulo / Dido\n",
      "01:20 : Supermodel | Måneskin\n",
      "01:17 : Pójdę tylko tam | Jamal\n",
      "01:14 : Nim zajdzie słońce | Smolasty / Doda\n",
      "01:10 : Raz po Raz | Perfect\n",
      "01:07 : Tell Me Why | Sound Of Legend\n",
      "01:05 : Feel Alive | Kamrad\n",
      "01:02 : Na okrągło | Kuban / Favst\n"
     ]
    }
   ],
   "source": [
    "# Criando looping para musicas\n",
    "for music in playlist:\n",
    "    # Artist\n",
    "    music_artist = music.find('div', class_ = 'song-artists').get_text()\n",
    "\n",
    "    # Title\n",
    "    music_title = music.find('a', class_ = 'song-title text-muted').get_text()\n",
    "    \n",
    "    # Time [CET UTC+01:00 or CEST UTC+02:00]\n",
    "    play_time = music.find('div', class_ = 'song-options small text-muted').get_text().strip()\n",
    "\n",
    "    print(f'{play_time} : {music_title} | {music_artist}')"
   ]
  }
 ],
 "metadata": {
  "kernelspec": {
   "display_name": "Python 3",
   "language": "python",
   "name": "python3"
  },
  "language_info": {
   "codemirror_mode": {
    "name": "ipython",
    "version": 3
   },
   "file_extension": ".py",
   "mimetype": "text/x-python",
   "name": "python",
   "nbconvert_exporter": "python",
   "pygments_lexer": "ipython3",
   "version": "3.11.5"
  },
  "orig_nbformat": 4
 },
 "nbformat": 4,
 "nbformat_minor": 2
}
