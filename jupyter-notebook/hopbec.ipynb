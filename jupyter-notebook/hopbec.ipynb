{
 "cells": [
  {
   "cell_type": "code",
   "execution_count": null,
   "metadata": {},
   "outputs": [],
   "source": [
    "# Libs \n",
    "import pandas   as pd\n",
    "import requests as rq\n",
    "from bs4 import BeautifulSoup\n",
    "\n",
    "import os\n",
    "from dotenv import load_dotenv"
   ]
  },
  {
   "cell_type": "code",
   "execution_count": null,
   "metadata": {},
   "outputs": [],
   "source": [
    "# Variables\n",
    "url = \"https://www.rmfmaxx.pl/hopbec\"\n",
    "user_agent = os.getenv('USER_AGENT')\n",
    "header = {'User-Agent' : f'{user_agent}'}"
   ]
  },
  {
   "cell_type": "code",
   "execution_count": null,
   "metadata": {},
   "outputs": [],
   "source": [
    "# Get Page\n",
    "relative_url = url + f\"/archiwalne\"\n",
    "rmf_hopbec = rq.get(relative_url, headers=header)\n",
    "soup = BeautifulSoup(rmf_hopbec.content, 'html.parser')"
   ]
  },
  {
   "cell_type": "code",
   "execution_count": null,
   "metadata": {},
   "outputs": [],
   "source": [
    "# Find music playlist\n",
    "# Select 'list-songs' first 'cause sidebar HopBec have the same div class 'row my-4 song-row'\n",
    "playlist = soup.find('div', class_ = 'list-songs')  \n",
    "playlist = playlist.find_all('div', class_ = 'row my-4 song-row')\n",
    "\n",
    "# Find all music played\n",
    "for music in playlist:\n",
    "    # Edition\n",
    "    edition = soup.find('title').get_text()\n",
    "    edition = edition[10:14]\n",
    "    # Position\n",
    "    position = music.find('div', class_ = 't-element-cover d-block').get_text().strip()\n",
    "    # Artist\n",
    "    music_artist = music.find('div', class_ = 'song-artists').get_text()\n",
    "    # Title\n",
    "    music_title = music.find('a', class_ = 'song-title text-muted').get_text()\n",
    "    print(f'{edition} - {position} : {music_title} | {music_artist}') "
   ]
  }
 ],
 "metadata": {
  "kernelspec": {
   "display_name": "Python 3",
   "language": "python",
   "name": "python3"
  },
  "language_info": {
   "codemirror_mode": {
    "name": "ipython",
    "version": 3
   },
   "file_extension": ".py",
   "mimetype": "text/x-python",
   "name": "python",
   "nbconvert_exporter": "python",
   "pygments_lexer": "ipython3",
   "version": "3.11.5"
  },
  "orig_nbformat": 4
 },
 "nbformat": 4,
 "nbformat_minor": 2
}
