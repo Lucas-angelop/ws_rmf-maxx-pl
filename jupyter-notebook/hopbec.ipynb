{
 "cells": [
  {
   "cell_type": "code",
   "execution_count": 22,
   "metadata": {},
   "outputs": [],
   "source": [
    "# Libs \n",
    "import pandas   as pd\n",
    "import requests as rq\n",
    "from bs4 import BeautifulSoup\n",
    "\n",
    "import os\n",
    "from dotenv import load_dotenv"
   ]
  },
  {
   "cell_type": "code",
   "execution_count": 23,
   "metadata": {},
   "outputs": [],
   "source": [
    "# Variables\n",
    "url = \"https://www.rmfmaxx.pl/hopbec\"\n",
    "user_agent = os.getenv('USER_AGENT')\n",
    "header = {'User-Agent' : f'{user_agent}'}"
   ]
  },
  {
   "cell_type": "code",
   "execution_count": 24,
   "metadata": {},
   "outputs": [],
   "source": [
    "# Get Page\n",
    "relative_url = url + f\"/archiwalne\"\n",
    "rmf_hopbec = rq.get(relative_url, headers=header)\n",
    "soup = BeautifulSoup(rmf_hopbec.content, 'html.parser')"
   ]
  },
  {
   "cell_type": "code",
   "execution_count": 34,
   "metadata": {},
   "outputs": [
    {
     "name": "stdout",
     "output_type": "stream",
     "text": [
      "7781 - 1 : Italodisco | The Kolors\n",
      "7781 - 2 : If Only I | Loud Luxury / Two Friends / Bebe Rexha\n",
      "7781 - 3 : Cynical | twocolors / Safri Duo / Chris De Sarandy\n",
      "7781 - 4 : (It Goes Like) Nanana | Peggy Gou\n",
      "7781 - 5 : Pocałunki | sanah\n",
      "7781 - 6 : Dance The Night | Dua Lipa\n",
      "7781 - 7 : Lose You | Sam Smith\n",
      "7781 - 8 : Tańcz głupia | Margaret\n",
      "7781 - 9 : Car Keys (Ayla) | Alok / Ava Max\n",
      "7781 - 10 : Nim zajdzie słońce | Smolasty / Doda\n",
      "7781 - 11 : Rush | Troye Sivan\n",
      "7781 - 12 : Be My Lover [Future Rave remix] | Hypaton / David Guetta / La Bouche\n",
      "7781 - 13 : Padam Padam | Kylie Minogue\n",
      "7781 - 14 : Runaway | OneRepublic\n",
      "7781 - 15 : PARADISE | Sophie and the Giants / Purple Disco Machine\n",
      "7781 - 16 : Drifting | Tiësto\n",
      "7781 - 17 : When Love Sucks | Jason Derulo / Dido\n",
      "7781 - 18 : Lustro | Bedoes 2115 / Dawid Kwiatkowski\n",
      "7781 - 19 : The Feeling | Lost Frequencies\n",
      "7781 - 20 : Desire | Calvin Harris / Sam Smith\n",
      "7781 - 21 : Stan | Gibbs\n",
      "7781 - 22 : On The Move | Lizot / Priska\n",
      "7781 - 23 : Good Life | Fast Boy\n",
      "7781 - 24 : Taxi | Kizo / Bletka\n",
      "7781 - 25 : Queen of Kings | Alessandra\n",
      "7781 - 26 : Never Ending Song | Conan Gray\n",
      "7781 - 27 : Od nowa | Kwiat jabłoni\n",
      "7781 - 28 : Delilah | Mikolas Josef / Mark Neve\n",
      "7781 - 29 : Phone | Meduza / Sam Tompkins / Em Beihold\n",
      "7781 - 30 : Na niebie | Oskar Cyms\n"
     ]
    }
   ],
   "source": [
    "# Find music playlist\n",
    "# Select 'list-songs' first 'cause sidebar HopBec have the same div class 'row my-4 song-row'\n",
    "playlist = soup.find('div', class_ = 'list-songs')  \n",
    "playlist = playlist.find_all('div', class_ = 'row my-4 song-row')\n",
    "\n",
    "# Find all music played\n",
    "for music in playlist:\n",
    "    # Edition\n",
    "    edition = soup.find('title').get_text()\n",
    "    edition = edition[10:14]\n",
    "    # Position\n",
    "    position = music.find('div', class_ = 't-element-cover d-block').get_text().strip()\n",
    "    # Artist\n",
    "    music_artist = music.find('div', class_ = 'song-artists').get_text()\n",
    "    # Title\n",
    "    music_title = music.find('a', class_ = 'song-title text-muted').get_text()\n",
    "    print(f'{edition} - {position} : {music_title} | {music_artist}') "
   ]
  }
 ],
 "metadata": {
  "kernelspec": {
   "display_name": "Python 3",
   "language": "python",
   "name": "python3"
  },
  "language_info": {
   "codemirror_mode": {
    "name": "ipython",
    "version": 3
   },
   "file_extension": ".py",
   "mimetype": "text/x-python",
   "name": "python",
   "nbconvert_exporter": "python",
   "pygments_lexer": "ipython3",
   "version": "3.11.5"
  },
  "orig_nbformat": 4
 },
 "nbformat": 4,
 "nbformat_minor": 2
}
